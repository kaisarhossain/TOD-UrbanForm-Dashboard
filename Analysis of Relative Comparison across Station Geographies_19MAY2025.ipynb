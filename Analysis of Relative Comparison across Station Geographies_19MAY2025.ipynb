{
 "cells": [
  {
   "cell_type": "markdown",
   "id": "98e1c250-9e58-47e4-9e07-2b713fdeaa16",
   "metadata": {},
   "source": [
    "### Relative Comparison across Stations based on Grographies (not comparison to national medians).\n",
    "    Prepared by: Mohammed Golam Kaisar Hossain Bhuyan\n",
    "    09-May-2025"
   ]
  },
  {
   "cell_type": "raw",
   "id": "0f396f90-235d-4281-88db-ad020d7da6cf",
   "metadata": {},
   "source": [
    "Objectives: Building characteristics (counts, heights, square footage) change with distance from a station.\n",
    "\n",
    "Classic TOD\t       200 meters\t400 meters\t800 meters\n",
    "Average height\t    highest\t       lower\teven lower\n",
    "Average footprint\thighest\t       lower\teven lower\n",
    "number of buildings\tlowest\t      higher\teven higher\n",
    "\n",
    "The Donut\t       200 meters\t400 meters\t800 meters\n",
    "Average height\t    lowest\t      higher\teven higher\n",
    "Average footprint\tlowest\t      higher\teven higher\n",
    "number of buildings\tlowest\t      higher\teven higher\n",
    "\n",
    "Monoculture\t       200 meters\t400 meters\t800 meters\n",
    "Average height\t    the same\tthe same\tthe same\n",
    "Average footprint\tthe same\tthe same\tthe same\n",
    "number of buildings\tthe same\tthe same\tthe same"
   ]
  },
  {
   "cell_type": "markdown",
   "id": "d71817c7-91e3-4b2e-a546-e812f7ef956e",
   "metadata": {
    "jp-MarkdownHeadingCollapsed": true
   },
   "source": [
    "#### Setting up libraries"
   ]
  },
  {
   "cell_type": "code",
   "execution_count": 12,
   "id": "da7025b4-761c-4086-bf3f-b66d62773e6b",
   "metadata": {},
   "outputs": [],
   "source": [
    "# pip install plotly"
   ]
  },
  {
   "cell_type": "code",
   "execution_count": 13,
   "id": "5f778190-cd14-4dc7-bdb0-47b3f6ae4817",
   "metadata": {},
   "outputs": [],
   "source": [
    "# pip install ipywidgets"
   ]
  },
  {
   "cell_type": "code",
   "execution_count": 14,
   "id": "3ad2b5bf-f79f-49cc-afbd-7b41212654ee",
   "metadata": {},
   "outputs": [],
   "source": [
    "import pandas as pd\n",
    "import matplotlib.pyplot as plt\n",
    "import seaborn as sns\n",
    "from mpl_toolkits.mplot3d import Axes3D\n",
    "import numpy as np\n",
    "import plotly.graph_objects as go\n",
    "import plotly.express as px\n"
   ]
  },
  {
   "cell_type": "markdown",
   "id": "13b853ad-6094-488c-bef2-43c08c93d898",
   "metadata": {
    "jp-MarkdownHeadingCollapsed": true
   },
   "source": [
    "#### Loading files"
   ]
  },
  {
   "cell_type": "code",
   "execution_count": 15,
   "id": "f61c7731-b77a-4927-8c4b-59d10d8023a0",
   "metadata": {},
   "outputs": [
    {
     "data": {
      "text/html": [
       "<div>\n",
       "<style scoped>\n",
       "    .dataframe tbody tr th:only-of-type {\n",
       "        vertical-align: middle;\n",
       "    }\n",
       "\n",
       "    .dataframe tbody tr th {\n",
       "        vertical-align: top;\n",
       "    }\n",
       "\n",
       "    .dataframe thead th {\n",
       "        text-align: right;\n",
       "    }\n",
       "</style>\n",
       "<table border=\"1\" class=\"dataframe\">\n",
       "  <thead>\n",
       "    <tr style=\"text-align: right;\">\n",
       "      <th></th>\n",
       "      <th>station_id</th>\n",
       "      <th>StationName</th>\n",
       "      <th>ntd_mode</th>\n",
       "      <th>agency</th>\n",
       "      <th>line_name</th>\n",
       "      <th>facility_type</th>\n",
       "      <th>Year built</th>\n",
       "      <th>Square Feet</th>\n",
       "      <th>Latitude</th>\n",
       "      <th>Longitude</th>\n",
       "      <th>...</th>\n",
       "      <th>Outer_MaxHeight</th>\n",
       "      <th>Outer_MinHeight</th>\n",
       "      <th>Outer_AvgHeight</th>\n",
       "      <th>Outer_BuildingsWithHeight</th>\n",
       "      <th>Outer_TotalBuildings</th>\n",
       "      <th>Outer_TotalFootprint</th>\n",
       "      <th>Outer_AvgFootprint</th>\n",
       "      <th>HasStepDown_Inner_Middle</th>\n",
       "      <th>HasStepDown_Middle_Outer</th>\n",
       "      <th>ConsistentStepDown</th>\n",
       "    </tr>\n",
       "  </thead>\n",
       "  <tbody>\n",
       "    <tr>\n",
       "      <th>0</th>\n",
       "      <td>36</td>\n",
       "      <td>ALAMEDA FERRY TERMINAL STATION</td>\n",
       "      <td>Ferry</td>\n",
       "      <td>Alameda/Oakland Ferry</td>\n",
       "      <td>Oakland / Alameda / San Francisco</td>\n",
       "      <td>Ferryboat Terminal</td>\n",
       "      <td>2023.0</td>\n",
       "      <td>NaN</td>\n",
       "      <td>37.791197</td>\n",
       "      <td>-122.294188</td>\n",
       "      <td>...</td>\n",
       "      <td>2.0</td>\n",
       "      <td>1.0</td>\n",
       "      <td>1.50</td>\n",
       "      <td>2</td>\n",
       "      <td>350</td>\n",
       "      <td>138976.44</td>\n",
       "      <td>397.08</td>\n",
       "      <td>False</td>\n",
       "      <td>False</td>\n",
       "      <td>False</td>\n",
       "    </tr>\n",
       "    <tr>\n",
       "      <th>1</th>\n",
       "      <td>37</td>\n",
       "      <td>OAKLAND FERRY TERMINAL STATION</td>\n",
       "      <td>Ferry</td>\n",
       "      <td>Alameda/Oakland Ferry</td>\n",
       "      <td>Oakland / Alameda / San Francisco</td>\n",
       "      <td>Ferryboat Terminal</td>\n",
       "      <td>1991.0</td>\n",
       "      <td>NaN</td>\n",
       "      <td>37.795011</td>\n",
       "      <td>-122.279758</td>\n",
       "      <td>...</td>\n",
       "      <td>15.0</td>\n",
       "      <td>1.0</td>\n",
       "      <td>3.18</td>\n",
       "      <td>84</td>\n",
       "      <td>522</td>\n",
       "      <td>336870.94</td>\n",
       "      <td>645.35</td>\n",
       "      <td>False</td>\n",
       "      <td>True</td>\n",
       "      <td>False</td>\n",
       "    </tr>\n",
       "  </tbody>\n",
       "</table>\n",
       "<p>2 rows × 39 columns</p>\n",
       "</div>"
      ],
      "text/plain": [
       "   station_id                     StationName ntd_mode                 agency  \\\n",
       "0          36  ALAMEDA FERRY TERMINAL STATION    Ferry  Alameda/Oakland Ferry   \n",
       "1          37  OAKLAND FERRY TERMINAL STATION    Ferry  Alameda/Oakland Ferry   \n",
       "\n",
       "                           line_name       facility_type  Year built  \\\n",
       "0  Oakland / Alameda / San Francisco  Ferryboat Terminal      2023.0   \n",
       "1  Oakland / Alameda / San Francisco  Ferryboat Terminal      1991.0   \n",
       "\n",
       "   Square Feet   Latitude   Longitude  ... Outer_MaxHeight Outer_MinHeight  \\\n",
       "0          NaN  37.791197 -122.294188  ...             2.0             1.0   \n",
       "1          NaN  37.795011 -122.279758  ...            15.0             1.0   \n",
       "\n",
       "  Outer_AvgHeight Outer_BuildingsWithHeight Outer_TotalBuildings  \\\n",
       "0            1.50                         2                  350   \n",
       "1            3.18                        84                  522   \n",
       "\n",
       "   Outer_TotalFootprint  Outer_AvgFootprint  HasStepDown_Inner_Middle  \\\n",
       "0             138976.44              397.08                     False   \n",
       "1             336870.94              645.35                     False   \n",
       "\n",
       "   HasStepDown_Middle_Outer  ConsistentStepDown  \n",
       "0                     False               False  \n",
       "1                      True               False  \n",
       "\n",
       "[2 rows x 39 columns]"
      ]
     },
     "execution_count": 15,
     "metadata": {},
     "output_type": "execute_result"
    }
   ],
   "source": [
    "# Load CSV\n",
    "df = pd.read_csv(\"Final_Heighttest_with_footprints_output.csv\")\n",
    "df.head(2)"
   ]
  },
  {
   "cell_type": "markdown",
   "id": "3dce8e92-c7c7-4a23-9120-1f751f5e0751",
   "metadata": {
    "jp-MarkdownHeadingCollapsed": true
   },
   "source": [
    "#### Duplicate and Null value handling"
   ]
  },
  {
   "cell_type": "code",
   "execution_count": 16,
   "id": "15e4fc9e-6e3d-4989-89dc-be28cc4303cd",
   "metadata": {},
   "outputs": [
    {
     "data": {
      "text/plain": [
       "0"
      ]
     },
     "execution_count": 16,
     "metadata": {},
     "output_type": "execute_result"
    }
   ],
   "source": [
    "# Checking duplicated rows : No Duplication\n",
    "df.duplicated().sum()"
   ]
  },
  {
   "cell_type": "code",
   "execution_count": 17,
   "id": "a855661e-89e5-41b0-82c4-661870a78ae4",
   "metadata": {},
   "outputs": [
    {
     "data": {
      "text/plain": [
       "Year built           0.262044\n",
       "Square Feet         17.375529\n",
       "Zip_Code             0.322516\n",
       "Inner_MaxHeight     42.934892\n",
       "Inner_MinHeight     42.934892\n",
       "Inner_AvgHeight     42.934892\n",
       "Middle_MaxHeight    34.126184\n",
       "Middle_MinHeight    34.126184\n",
       "Middle_AvgHeight    34.126184\n",
       "Outer_MaxHeight     19.552510\n",
       "Outer_MinHeight     19.552510\n",
       "Outer_AvgHeight     19.552510\n",
       "dtype: float64"
      ]
     },
     "execution_count": 17,
     "metadata": {},
     "output_type": "execute_result"
    }
   ],
   "source": [
    "# Checking null values : Null Value Exists\n",
    "df.isna().sum()\n",
    "# Check the percentage of missing values in each column\n",
    "missing_percentage = df.isnull().sum() / len(df) * 100\n",
    "missing_percentage[missing_percentage > 0]"
   ]
  },
  {
   "cell_type": "code",
   "execution_count": 18,
   "id": "3abbd070-f2d0-4a58-b032-76cfa3eceda9",
   "metadata": {},
   "outputs": [],
   "source": [
    "# Missing Data Analysis\n",
    "# Square Feet is missing in 17.4% of records.\n",
    "# Inner (200m) building heights are missing in 43% of records.\n",
    "# Middle (400m) building heights are missing in 34% of records.\n",
    "# Outer (800m) building heights are missing in 19.5% of records.\n",
    "\n",
    "# Handling Missing Values\n",
    "# Square Feet: Missing values are imputed using the median (to avoid outlier influence).\n",
    "# Building Heights (Inner, Middle, Outer): Considering missing values is \"no buildings,\" filled with 0.\n",
    "# Year built and Zip_Code missing values are not significant for this analysis."
   ]
  },
  {
   "cell_type": "markdown",
   "id": "088ff6e0-28c7-45b1-813a-b1179486062f",
   "metadata": {
    "jp-MarkdownHeadingCollapsed": true
   },
   "source": [
    "#### Cleaning up column names for visual representation"
   ]
  },
  {
   "cell_type": "code",
   "execution_count": 19,
   "id": "32a50766-d563-4c87-b35c-fd65dbdf8200",
   "metadata": {},
   "outputs": [
    {
     "data": {
      "text/plain": [
       "Index(['station_id', 'StationName', 'ntd_mode', 'agency', 'line_name',\n",
       "       'facility_type', 'Year_built', 'Square_Feet', 'Latitude', 'Longitude',\n",
       "       'full_address', 'City', 'State', 'County', 'Zip_Code',\n",
       "       'Inner_MaxHeight', 'Inner_MinHeight', 'Inner_AvgHeight',\n",
       "       'Inner_BuildingsWithHeight', 'Inner_TotalBuildings',\n",
       "       'Inner_TotalFootprint', 'Inner_AvgFootprint', 'Middle_MaxHeight',\n",
       "       'Middle_MinHeight', 'Middle_AvgHeight', 'Middle_BuildingsWithHeight',\n",
       "       'Middle_TotalBuildings', 'Middle_TotalFootprint', 'Middle_AvgFootprint',\n",
       "       'Outer_MaxHeight', 'Outer_MinHeight', 'Outer_AvgHeight',\n",
       "       'Outer_BuildingsWithHeight', 'Outer_TotalBuildings',\n",
       "       'Outer_TotalFootprint', 'Outer_AvgFootprint',\n",
       "       'HasStepDown_Inner_Middle', 'HasStepDown_Middle_Outer',\n",
       "       'ConsistentStepDown'],\n",
       "      dtype='object')"
      ]
     },
     "execution_count": 19,
     "metadata": {},
     "output_type": "execute_result"
    }
   ],
   "source": [
    "# Dataframe copy for processing\n",
    "df_copy = df.copy(deep=True)\n",
    "# df_copy.head()\n",
    "\n",
    "# Rename columns for clarity\n",
    "df_copy.rename(columns=lambda x: x.strip().replace(\" \", \"_\"), inplace=True)\n",
    "df_copy.columns"
   ]
  },
  {
   "cell_type": "code",
   "execution_count": 20,
   "id": "32a8f5e7-b39f-427e-a67c-eac4caf9be7c",
   "metadata": {},
   "outputs": [],
   "source": [
    "# Fill missing values in Square Feet with median data\n",
    "df['Square Feet'] = df['Square Feet'].fillna(df['Square Feet'].median())\n",
    "\n",
    "# Fill missing building height values with 0 (assuming missing means no buildings)\n",
    "height_columns = ['Inner_MaxHeight', 'Inner_MinHeight', 'Inner_AvgHeight',\n",
    "                  'Middle_MaxHeight', 'Middle_MinHeight', 'Middle_AvgHeight',\n",
    "                  'Outer_MaxHeight', 'Outer_MinHeight', 'Outer_AvgHeight']\n",
    "\n",
    "df[height_columns] = df[height_columns].fillna(0)\n",
    "\n",
    "# # Verify missing values are handled\n",
    "# df.isnull().sum()  # Should return 0 if all missing values are filled"
   ]
  },
  {
   "cell_type": "markdown",
   "id": "99bf940a-82e4-4922-bf2d-5573a5a0e15f",
   "metadata": {},
   "source": [
    "### Classic TOD\n",
    "    \"Classic TOD\" represents patters where Average Height and Average Footprint decrease as we move out from 200 m to 400 m to 800 m but Building Count increase."
   ]
  },
  {
   "cell_type": "code",
   "execution_count": 21,
   "id": "f8bdf7fa-d08c-452e-9329-d41c78af7980",
   "metadata": {},
   "outputs": [
    {
     "name": "stdout",
     "output_type": "stream",
     "text": [
      "Stations matching Classic TOD pattern: 0 out of 4961\n"
     ]
    }
   ],
   "source": [
    "\n",
    "# 1. Define the three boolean conditions\n",
    "\n",
    "# A) Heights decrease: 200 m > 400 m > 800 m\n",
    "cond_height = (\n",
    "    (df['Inner_AvgHeight'] > df['Middle_AvgHeight']) &\n",
    "    (df['Middle_AvgHeight'] > df['Outer_AvgHeight'])\n",
    ")\n",
    "\n",
    "# cond_height.head()\n",
    "\n",
    "# B) Footprint decreases: 200 m > 400 m > 800 m\n",
    "cond_footprint = (\n",
    "    (df['Inner_TotalFootprint'] > df['Middle_TotalFootprint']) &\n",
    "    (df['Middle_TotalFootprint'] > df['Outer_TotalFootprint'])\n",
    ")\n",
    "\n",
    "# C) Building counts increase: 200 m < 400 m < 800 m\n",
    "cond_buildings = (\n",
    "    (df['Inner_TotalBuildings'] < df['Middle_TotalBuildings']) &\n",
    "    (df['Middle_TotalBuildings'] < df['Outer_TotalBuildings'])\n",
    ")\n",
    "\n",
    "# 2. Combine all three for the “Classic TOD” pattern\n",
    "classic_tod_mask = cond_height & cond_footprint & cond_buildings\n",
    "classic_tod = df[classic_tod_mask]\n",
    "\n",
    "# 3. Report the count\n",
    "print(f\"Stations matching Classic TOD pattern: {len(classic_tod)} out of {len(df)}\")\n",
    "\n",
    "# 4. See which stations they are\n",
    "classic_tod[['station_id','StationName','line_name','agency']]\n",
    "\n",
    "# 5. Adding a Column 'Topology' to the Dataframe and mark it according to the type\n",
    "df['Typology'] = 'Other'\n",
    "df.loc[classic_tod_mask, 'Typology'] = 'Classic'"
   ]
  },
  {
   "cell_type": "markdown",
   "id": "2249e75f-3125-4a1a-bc43-02ed23e5badd",
   "metadata": {},
   "source": [
    "### The Donut\n",
    "    In \"Donut\" assessment, 200 m radious has the lowest Building Average Height, Building Average Footprint, and Building Count, and all\n",
    "    of these three metrics increase as we move outward to 400 m and to 800 m."
   ]
  },
  {
   "cell_type": "code",
   "execution_count": 23,
   "id": "53682eb8-6a0e-4c04-832a-2d296b587d3b",
   "metadata": {},
   "outputs": [
    {
     "name": "stdout",
     "output_type": "stream",
     "text": [
      "Stations matching Donut pattern: 687 out of 4961\n"
     ]
    }
   ],
   "source": [
    "# Donut pattern conditions:\n",
    "\n",
    "# Heights: 200 m < 400 m < 800 m\n",
    "cond_height_donut = (\n",
    "    (df['Inner_AvgHeight'] < df['Middle_AvgHeight']) &\n",
    "    (df['Middle_AvgHeight'] < df['Outer_AvgHeight'])\n",
    ")\n",
    "\n",
    "# Footprint: 200 m < 400 m < 800 m\n",
    "cond_footprint_donut = (\n",
    "    (df['Inner_TotalFootprint'] < df['Middle_TotalFootprint']) &\n",
    "    (df['Middle_TotalFootprint'] < df['Outer_TotalFootprint'])\n",
    ")\n",
    "\n",
    "# Building counts: 200 m < 400 m < 800 m\n",
    "cond_buildings_donut = (\n",
    "    (df['Inner_TotalBuildings'] < df['Middle_TotalBuildings']) &\n",
    "    (df['Middle_TotalBuildings'] < df['Outer_TotalBuildings'])\n",
    ")\n",
    "\n",
    "# Combine all three conditions\n",
    "donut_mask = cond_height_donut & cond_footprint_donut & cond_buildings_donut\n",
    "donut_typology = df[donut_mask]\n",
    "\n",
    "# Print count and preview\n",
    "print(f\"Stations matching Donut pattern: {len(donut_typology)} out of {len(df)}\")\n",
    "\n",
    "# View relevant station columns\n",
    "donut_typology[['station_id', 'StationName', 'line_name', 'agency']]\n",
    "\n",
    "# Updating 'Topology' and mark it according to the type\n",
    "df.loc[donut_mask, 'Typology'] = 'Donut'"
   ]
  },
  {
   "cell_type": "markdown",
   "id": "1c7d0ac4-bcc1-4faa-a7fb-8db32523742a",
   "metadata": {},
   "source": [
    "### Monoculture\n",
    "    \"Monoculture\" represents patters where Average Height, Average Footprint and Building Count doesn't increase or decrease \n",
    "    (remain the same) as we move out from 200 m to 400 m to 800 m."
   ]
  },
  {
   "cell_type": "code",
   "execution_count": 25,
   "id": "e563bd43-630e-499d-aa9c-802a57831c1a",
   "metadata": {},
   "outputs": [
    {
     "name": "stdout",
     "output_type": "stream",
     "text": [
      "Stations matching Monoculture pattern: 13 out of 4961\n"
     ]
    }
   ],
   "source": [
    "# Tolerance for \"same\" – adjust based on scale of your data\n",
    "TOL_HEIGHT = 1.0            # meters\n",
    "TOL_FOOTPRINT = 1000        # square meters\n",
    "TOL_BUILDINGS = 3           # number of buildings\n",
    "\n",
    "# Height same across all radii\n",
    "cond_height_mono = (\n",
    "    (abs(df['Inner_AvgHeight'] - df['Middle_AvgHeight']) <= TOL_HEIGHT) &\n",
    "    (abs(df['Middle_AvgHeight'] - df['Outer_AvgHeight']) <= TOL_HEIGHT)\n",
    ")\n",
    "\n",
    "# Footprint same\n",
    "cond_footprint_mono = (\n",
    "    (abs(df['Inner_TotalFootprint'] - df['Middle_TotalFootprint']) <= TOL_FOOTPRINT) &\n",
    "    (abs(df['Middle_TotalFootprint'] - df['Outer_TotalFootprint']) <= TOL_FOOTPRINT)\n",
    ")\n",
    "\n",
    "# Building counts same\n",
    "cond_buildings_mono = (\n",
    "    (abs(df['Inner_TotalBuildings'] - df['Middle_TotalBuildings']) <= TOL_BUILDINGS) &\n",
    "    (abs(df['Middle_TotalBuildings'] - df['Outer_TotalBuildings']) <= TOL_BUILDINGS)\n",
    ")\n",
    "\n",
    "# Combine all\n",
    "monoculture_mask = cond_height_mono & cond_footprint_mono & cond_buildings_mono\n",
    "monoculture_typology = df[monoculture_mask]\n",
    "\n",
    "print(f\"Stations matching Monoculture pattern: {len(monoculture_typology)} out of {len(df)}\")\n",
    "\n",
    "# View some station details\n",
    "monoculture_typology[['station_id', 'StationName', 'line_name', 'agency']]\n",
    "\n",
    "# Updating 'Topology' and mark it according to the type\n",
    "df.loc[monoculture_mask, 'Typology'] = 'Monoculture'"
   ]
  },
  {
   "cell_type": "markdown",
   "id": "7de2c08d-08f1-4026-982b-e711a2177b5f",
   "metadata": {},
   "source": [
    "### Station Typology Charts"
   ]
  },
  {
   "cell_type": "code",
   "execution_count": 42,
   "id": "de9dedbf-1e12-48c9-9144-d5b56e79be08",
   "metadata": {},
   "outputs": [
    {
     "data": {
      "text/plain": [
       "<Axes: title={'center': 'Station Typology Count'}, xlabel='Typology'>"
      ]
     },
     "execution_count": 42,
     "metadata": {},
     "output_type": "execute_result"
    },
    {
     "data": {
      "image/png": "[encoded data removed]",
      "text/plain": [
       "<Figure size 800x600 with 1 Axes>"
      ]
     },
     "metadata": {},
     "output_type": "display_data"
    }
   ],
   "source": [
    "# Count\n",
    "df['Typology'].value_counts().plot(kind='bar', color='purple', figsize=(8, 6), title='Station Typology Count')\n"
   ]
  },
  {
   "cell_type": "code",
   "execution_count": 28,
   "id": "0492abce-cc4d-4e91-8f1d-cc21ea17e40d",
   "metadata": {},
   "outputs": [
    {
     "data": {
      "text/plain": [
       "<Axes: title={'center': 'Typology for Heavy Rail'}, xlabel='Typology'>"
      ]
     },
     "execution_count": 28,
     "metadata": {},
     "output_type": "execute_result"
    },
    {
     "data": {
      "image/png": "[encoded data removed]",
      "text/plain": [
       "<Figure size 640x480 with 1 Axes>"
      ]
     },
     "metadata": {},
     "output_type": "display_data"
    }
   ],
   "source": [
    "# Filter for Transfer Mode: heavy rail only\n",
    "df_rail = df[df['ntd_mode'] == 'Heavy Rail']\n",
    "\n",
    "# Count Monoculture vs Others\n",
    "df_rail['Typology'].value_counts().plot(kind='bar', title='Typology for Heavy Rail', color='orange')\n"
   ]
  },
  {
   "cell_type": "code",
   "execution_count": 31,
   "id": "12d4dba1-fded-410a-9f92-b5ccae9067a4",
   "metadata": {},
   "outputs": [
    {
     "data": {
      "image/png": "[encoded data removed]",
      "text/plain": [
       "<Figure size 1000x500 with 1 Axes>"
      ]
     },
     "metadata": {},
     "output_type": "display_data"
    }
   ],
   "source": [
    "import seaborn as sns\n",
    "import matplotlib.pyplot as plt\n",
    "\n",
    "# Count by Typology and Transit Mode\n",
    "plt.figure(figsize=(10,5))\n",
    "sns.countplot(data=df, x='Typology', hue='ntd_mode')\n",
    "plt.title('Station Typology by Transit Mode')\n",
    "plt.xticks(rotation=45)\n",
    "plt.tight_layout()\n",
    "plt.show()\n"
   ]
  },
  {
   "cell_type": "code",
   "execution_count": 33,
   "id": "be0d1531-aa46-4e2a-9f8e-fe1fda7d9a3d",
   "metadata": {},
   "outputs": [],
   "source": [
    "# Saving into new file with refined data and 'Topology' column for Streamlit visualization\n",
    "\n",
    "df.to_csv('Final_Heighttest_with_footprints_output_typology.csv', index=False)"
   ]
  },
  {
   "cell_type": "code",
   "execution_count": 34,
   "id": "8412f8dc-f1a8-4acd-a7ab-9e71a3d88c0e",
   "metadata": {},
   "outputs": [
    {
     "data": {
      "text/html": [
       "<div>\n",
       "<style scoped>\n",
       "    .dataframe tbody tr th:only-of-type {\n",
       "        vertical-align: middle;\n",
       "    }\n",
       "\n",
       "    .dataframe tbody tr th {\n",
       "        vertical-align: top;\n",
       "    }\n",
       "\n",
       "    .dataframe thead th {\n",
       "        text-align: right;\n",
       "    }\n",
       "</style>\n",
       "<table border=\"1\" class=\"dataframe\">\n",
       "  <thead>\n",
       "    <tr style=\"text-align: right;\">\n",
       "      <th></th>\n",
       "      <th>station_id</th>\n",
       "      <th>StationName</th>\n",
       "      <th>ntd_mode</th>\n",
       "      <th>agency</th>\n",
       "      <th>line_name</th>\n",
       "      <th>facility_type</th>\n",
       "      <th>Year built</th>\n",
       "      <th>Square Feet</th>\n",
       "      <th>Latitude</th>\n",
       "      <th>Longitude</th>\n",
       "      <th>...</th>\n",
       "      <th>Outer_MinHeight</th>\n",
       "      <th>Outer_AvgHeight</th>\n",
       "      <th>Outer_BuildingsWithHeight</th>\n",
       "      <th>Outer_TotalBuildings</th>\n",
       "      <th>Outer_TotalFootprint</th>\n",
       "      <th>Outer_AvgFootprint</th>\n",
       "      <th>HasStepDown_Inner_Middle</th>\n",
       "      <th>HasStepDown_Middle_Outer</th>\n",
       "      <th>ConsistentStepDown</th>\n",
       "      <th>Typology</th>\n",
       "    </tr>\n",
       "  </thead>\n",
       "  <tbody>\n",
       "    <tr>\n",
       "      <th>0</th>\n",
       "      <td>36</td>\n",
       "      <td>ALAMEDA FERRY TERMINAL STATION</td>\n",
       "      <td>Ferry</td>\n",
       "      <td>Alameda/Oakland Ferry</td>\n",
       "      <td>Oakland / Alameda / San Francisco</td>\n",
       "      <td>Ferryboat Terminal</td>\n",
       "      <td>2023.0</td>\n",
       "      <td>11700.0</td>\n",
       "      <td>37.791197</td>\n",
       "      <td>-122.294188</td>\n",
       "      <td>...</td>\n",
       "      <td>1.0</td>\n",
       "      <td>1.50</td>\n",
       "      <td>2</td>\n",
       "      <td>350</td>\n",
       "      <td>138976.44</td>\n",
       "      <td>397.08</td>\n",
       "      <td>False</td>\n",
       "      <td>False</td>\n",
       "      <td>False</td>\n",
       "      <td>Other</td>\n",
       "    </tr>\n",
       "    <tr>\n",
       "      <th>1</th>\n",
       "      <td>37</td>\n",
       "      <td>OAKLAND FERRY TERMINAL STATION</td>\n",
       "      <td>Ferry</td>\n",
       "      <td>Alameda/Oakland Ferry</td>\n",
       "      <td>Oakland / Alameda / San Francisco</td>\n",
       "      <td>Ferryboat Terminal</td>\n",
       "      <td>1991.0</td>\n",
       "      <td>11700.0</td>\n",
       "      <td>37.795011</td>\n",
       "      <td>-122.279758</td>\n",
       "      <td>...</td>\n",
       "      <td>1.0</td>\n",
       "      <td>3.18</td>\n",
       "      <td>84</td>\n",
       "      <td>522</td>\n",
       "      <td>336870.94</td>\n",
       "      <td>645.35</td>\n",
       "      <td>False</td>\n",
       "      <td>True</td>\n",
       "      <td>False</td>\n",
       "      <td>Other</td>\n",
       "    </tr>\n",
       "  </tbody>\n",
       "</table>\n",
       "<p>2 rows × 40 columns</p>\n",
       "</div>"
      ],
      "text/plain": [
       "   station_id                     StationName ntd_mode                 agency  \\\n",
       "0          36  ALAMEDA FERRY TERMINAL STATION    Ferry  Alameda/Oakland Ferry   \n",
       "1          37  OAKLAND FERRY TERMINAL STATION    Ferry  Alameda/Oakland Ferry   \n",
       "\n",
       "                           line_name       facility_type  Year built  \\\n",
       "0  Oakland / Alameda / San Francisco  Ferryboat Terminal      2023.0   \n",
       "1  Oakland / Alameda / San Francisco  Ferryboat Terminal      1991.0   \n",
       "\n",
       "   Square Feet   Latitude   Longitude  ... Outer_MinHeight Outer_AvgHeight  \\\n",
       "0      11700.0  37.791197 -122.294188  ...             1.0            1.50   \n",
       "1      11700.0  37.795011 -122.279758  ...             1.0            3.18   \n",
       "\n",
       "  Outer_BuildingsWithHeight Outer_TotalBuildings Outer_TotalFootprint  \\\n",
       "0                         2                  350            138976.44   \n",
       "1                        84                  522            336870.94   \n",
       "\n",
       "   Outer_AvgFootprint  HasStepDown_Inner_Middle  HasStepDown_Middle_Outer  \\\n",
       "0              397.08                     False                     False   \n",
       "1              645.35                     False                      True   \n",
       "\n",
       "   ConsistentStepDown  Typology  \n",
       "0               False     Other  \n",
       "1               False     Other  \n",
       "\n",
       "[2 rows x 40 columns]"
      ]
     },
     "execution_count": 34,
     "metadata": {},
     "output_type": "execute_result"
    }
   ],
   "source": [
    "df2 = pd.read_csv(\"Final_Heighttest_with_footprints_output_typology.csv\")\n",
    "df2.head(2)"
   ]
  },
  {
   "cell_type": "code",
   "execution_count": 35,
   "id": "354627a5-0aed-4431-a4dd-6232563c768f",
   "metadata": {},
   "outputs": [],
   "source": [
    "# End"
   ]
  }
 ],
 "metadata": {
  "kernelspec": {
   "display_name": "Python 3 (ipykernel)",
   "language": "python",
   "name": "python3"
  },
  "language_info": {
   "codemirror_mode": {
    "name": "ipython",
    "version": 3
   },
   "file_extension": ".py",
   "mimetype": "text/x-python",
   "name": "python",
   "nbconvert_exporter": "python",
   "pygments_lexer": "ipython3",
   "version": "3.12.4"
  }
 },
 "nbformat": 4,
 "nbformat_minor": 5
}
